{
 "cells": [
  {
   "cell_type": "markdown",
   "metadata": {},
   "source": [
    "В данном пример продемонстрирована работа инкапсуляции."
   ]
  },
  {
   "cell_type": "code",
   "execution_count": 1,
   "metadata": {},
   "outputs": [],
   "source": [
    "# Класс лампочка имеет два метода (Включена и Выключена)\n",
    "class Lamp:\n",
    "    def __init__(self):  # Определяем стартовое значения каждого экземпляра.\n",
    "        self.state = False\n",
    "        # Что бы иметь возможность Включить лампочку, она должна быть Выключина\n",
    "        \n",
    "    def switch_on(self):\n",
    "        if not self.state:  # Условие: Если ПРИ обращении к методу класса, состояние ламочки False\n",
    "            # Тогда её свойвство state меняеться на True.\n",
    "            self.state = True\n",
    "            print('Включили лампочку')\n",
    "    \n",
    "    def switch_off(self):\n",
    "        if self.state:\n",
    "            print('Выключили лампочку')\n",
    "            self.state = False  "
   ]
  },
  {
   "cell_type": "code",
   "execution_count": 11,
   "metadata": {},
   "outputs": [
    {
     "name": "stdout",
     "output_type": "stream",
     "text": [
      "Включили лампочку\n"
     ]
    }
   ],
   "source": [
    "#  Создаем два экземпляра класса Lamp \n",
    "lamp1 = Lamp()\n",
    "lamp2 = Lamp()\n",
    "\n",
    "#  Передаем сообщение о Включении лампочки ! \n",
    "lamp2.switch_on()"
   ]
  },
  {
   "cell_type": "code",
   "execution_count": 12,
   "metadata": {},
   "outputs": [
    {
     "name": "stdout",
     "output_type": "stream",
     "text": [
      "False\n",
      "True\n"
     ]
    }
   ],
   "source": [
    "print(lamp1.state)\n",
    "\n",
    "#  Экземпляр класса Lamp внутри переменной lamp2 изменил свойвство\n",
    "print(lamp2.state)"
   ]
  },
  {
   "cell_type": "code",
   "execution_count": null,
   "metadata": {},
   "outputs": [],
   "source": []
  }
 ],
 "metadata": {
  "kernelspec": {
   "display_name": "Python 3",
   "language": "python",
   "name": "python3"
  },
  "language_info": {
   "codemirror_mode": {
    "name": "ipython",
    "version": 3
   },
   "file_extension": ".py",
   "mimetype": "text/x-python",
   "name": "python",
   "nbconvert_exporter": "python",
   "pygments_lexer": "ipython3",
   "version": "3.6.4"
  }
 },
 "nbformat": 4,
 "nbformat_minor": 2
}
